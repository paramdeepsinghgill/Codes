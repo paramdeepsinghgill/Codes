{
 "cells": [
  {
   "cell_type": "code",
   "execution_count": 6,
   "id": "097fa4ea-0e83-42ce-a359-a6c3c0a1ba53",
   "metadata": {},
   "outputs": [
    {
     "ename": "ModuleNotFoundError",
     "evalue": "No module named 'h5py'",
     "output_type": "error",
     "traceback": [
      "\u001b[1;31m---------------------------------------------------------------------------\u001b[0m",
      "\u001b[1;31mModuleNotFoundError\u001b[0m                       Traceback (most recent call last)",
      "Cell \u001b[1;32mIn[6], line 2\u001b[0m\n\u001b[0;32m      1\u001b[0m \u001b[38;5;28;01mimport\u001b[39;00m \u001b[38;5;21;01mnumpy\u001b[39;00m \u001b[38;5;28;01mas\u001b[39;00m \u001b[38;5;21;01mnp\u001b[39;00m\n\u001b[1;32m----> 2\u001b[0m \u001b[38;5;28;01mimport\u001b[39;00m \u001b[38;5;21;01mh5py\u001b[39;00m\n\u001b[0;32m      3\u001b[0m \u001b[38;5;66;03m# with h5py.File('GOLD_XYZ_OSC.0001_1024.hdf5', 'r') as f: \u001b[39;00m\n\u001b[0;32m      4\u001b[0m \u001b[38;5;66;03m#     data = f['default']\u001b[39;00m\n\u001b[0;32m      5\u001b[0m      \n\u001b[1;32m   (...)\u001b[0m\n\u001b[0;32m     12\u001b[0m \u001b[38;5;66;03m#     # get the values ranging from index 0 to 15\u001b[39;00m\n\u001b[0;32m     13\u001b[0m \u001b[38;5;66;03m#     print(data[:15])\u001b[39;00m\n",
      "\u001b[1;31mModuleNotFoundError\u001b[0m: No module named 'h5py'"
     ]
    }
   ],
   "source": [
    "import numpy as np\n",
    "import h5py\n",
    "with h5py.File('GOLD_XYZ_OSC.0001_1024.hdf5', 'r') as f: \n",
    "    data = f['default']\n",
    "     \n",
    "    # get the minimum value\n",
    "    print(min(data)) \n",
    "     \n",
    "    # get the maximum value\n",
    "    print(max(data))\n",
    "     \n",
    "    # get the values ranging from index 0 to 15\n",
    "    print(data[:15])"
   ]
  },
  {
   "cell_type": "code",
   "execution_count": 4,
   "id": "f76b7d71-24f7-4623-8b92-d09b23c08978",
   "metadata": {},
   "outputs": [
    {
     "name": "stdout",
     "output_type": "stream",
     "text": [
      "Package            Version\n",
      "------------------ -----------\n",
      "aiohttp            3.9.5\n",
      "aiosignal          1.3.1\n",
      "attrs              23.2.0\n",
      "certifi            2024.2.2\n",
      "charset-normalizer 3.3.2\n",
      "colorama           0.4.6\n",
      "datasets           2.19.1\n",
      "dill               0.3.8\n",
      "filelock           3.14.0\n",
      "frozenlist         1.4.1\n",
      "fsspec             2024.3.1\n",
      "h5py               3.11.0\n",
      "huggingface-hub    0.23.0\n",
      "idna               3.7\n",
      "multidict          6.0.5\n",
      "multiprocess       0.70.16\n",
      "numpy              1.26.4\n",
      "packaging          24.0\n",
      "pandas             2.2.2\n",
      "pip                23.2.1\n",
      "pyarrow            16.0.0\n",
      "pyarrow-hotfix     0.6\n",
      "python-dateutil    2.9.0.post0\n",
      "pytz               2024.1\n",
      "PyYAML             6.0.1\n",
      "requests           2.31.0\n",
      "six                1.16.0\n",
      "tqdm               4.66.4\n",
      "typing_extensions  4.11.0\n",
      "tzdata             2024.1\n",
      "urllib3            2.2.1\n",
      "xxhash             3.4.1\n",
      "yarl               1.9.4\n"
     ]
    },
    {
     "name": "stderr",
     "output_type": "stream",
     "text": [
      "\n",
      "[notice] A new release of pip is available: 23.2.1 -> 24.0\n",
      "[notice] To update, run: python.exe -m pip install --upgrade pip\n"
     ]
    }
   ],
   "source": [
    "!pip list"
   ]
  }
 ],
 "metadata": {
  "kernelspec": {
   "display_name": "psgill",
   "language": "python",
   "name": "psgill"
  },
  "language_info": {
   "codemirror_mode": {
    "name": "ipython",
    "version": 3
   },
   "file_extension": ".py",
   "mimetype": "text/x-python",
   "name": "python",
   "nbconvert_exporter": "python",
   "pygments_lexer": "ipython3",
   "version": "3.12.0"
  }
 },
 "nbformat": 4,
 "nbformat_minor": 5
}
