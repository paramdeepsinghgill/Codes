{
 "cells": [
  {
   "cell_type": "markdown",
   "id": "fcf03c62-8a14-41c4-95f5-aecf048bd1d0",
   "metadata": {},
   "source": [
    "Paramdeep Singh Gill</br>102103258</br>3CO9\n",
    "#### Imports:"
   ]
  },
  {
   "cell_type": "code",
   "execution_count": 4,
   "id": "c6b302f8-aafc-42ed-9e1a-b156bced1213",
   "metadata": {},
   "outputs": [],
   "source": [
    "from textblob import TextBlob"
   ]
  },
  {
   "cell_type": "code",
   "execution_count": 5,
   "id": "629cac5e-fe4f-4c2c-a1a9-353e720df67d",
   "metadata": {},
   "outputs": [
    {
     "name": "stdout",
     "output_type": "stream",
     "text": [
      "Text: I love this product! It's amazing.\n",
      "Sentiment Score: 0.6125\n",
      "Sentiment: positive\n"
     ]
    }
   ],
   "source": [
    "TextBlob_object = TextBlob(text)\n",
    "\n",
    "# Interpret sentiment score\n",
    "if sentiment_score > 0:\n",
    "    sentiment = \"positive\"\n",
    "elif sentiment_score < 0:\n",
    "    sentiment = \"negative\"\n",
    "else:\n",
    "    sentiment = \"neutral\"\n",
    "print(\"Text:\", text)\n",
    "print(\"Sentiment Score:\", sentiment_score)\n",
    "print(\"Sentiment:\", sentiment)\n",
    "\n",
    "file = open(\"corpus.pkl\", \"rb\")\n",
    "data = pickle.load(file)\n",
    "for i in range(0, data.shape[0]):\n",
    "    sentiment_score = TextBlob_object.sentiment.polarity"
   ]
  }
 ],
 "metadata": {
  "kernelspec": {
   "display_name": "psgill",
   "language": "python",
   "name": "psgill"
  },
  "language_info": {
   "codemirror_mode": {
    "name": "ipython",
    "version": 3
   },
   "file_extension": ".py",
   "mimetype": "text/x-python",
   "name": "python",
   "nbconvert_exporter": "python",
   "pygments_lexer": "ipython3",
   "version": "3.12.0"
  }
 },
 "nbformat": 4,
 "nbformat_minor": 5
}
