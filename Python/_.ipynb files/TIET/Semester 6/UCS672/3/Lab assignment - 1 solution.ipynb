{
 "cells": [
  {
   "cell_type": "markdown",
   "id": "451a259e",
   "metadata": {},
   "source": [
    "Q1. Split this string<br>\n",
    "s = \"Hi there Class!\"<br>\n",
    "into a list."
   ]
  },
  {
   "cell_type": "code",
   "execution_count": 6,
   "id": "225d62d1",
   "metadata": {},
   "outputs": [
    {
     "data": {
      "text/plain": [
       "['Hi', 'there', 'Class!']"
      ]
     },
     "execution_count": 6,
     "metadata": {},
     "output_type": "execute_result"
    }
   ],
   "source": [
    "s = \"Hi there Class!\"\n",
    "s.split()"
   ]
  },
  {
   "cell_type": "markdown",
   "id": "61154b28",
   "metadata": {},
   "source": [
    "Q2. Given the variables<br>\n",
    "planet = \"Earth\"<br>\n",
    "diameter = 12742<br>\n",
    "Use .format() to print the following string:<br>\n",
    "The diameter of Earth is 12742 kilometers."
   ]
  },
  {
   "cell_type": "code",
   "execution_count": 8,
   "id": "720e1d6d",
   "metadata": {},
   "outputs": [
    {
     "name": "stdout",
     "output_type": "stream",
     "text": [
      "The diameter of Earth is 12742 kilometers.\n"
     ]
    }
   ],
   "source": [
    "planet = \"Earth\"\n",
    "diameter = 12742\n",
    "a = \"The diameter of {0} is {1} kilometers.\"\n",
    "print(a.format(planet,diameter))"
   ]
  },
  {
   "cell_type": "markdown",
   "id": "a698e120",
   "metadata": {},
   "source": [
    "Q3. Given this nested list, use indexing to grab the word \"hello\"<br>\n",
    "lst = [1,2,[3,4],[5,[100,200,['hello']],23,11],1,7]"
   ]
  },
  {
   "cell_type": "code",
   "execution_count": 14,
   "id": "71e7b71b",
   "metadata": {},
   "outputs": [
    {
     "name": "stdout",
     "output_type": "stream",
     "text": [
      "hello\n"
     ]
    }
   ],
   "source": [
    "lst = [1,2,[3,4],[5,[100,200,['hello']],23,11],1,7]\n",
    "print(lst[3][1][2][0])"
   ]
  },
  {
   "cell_type": "markdown",
   "id": "43123e93",
   "metadata": {},
   "source": [
    "Q4. Given this nested dictionary grab the word \"hello\".<br>\n",
    "d = {'k1':[1,2,3,{'tricky':['oh','man','inception',{'target':[1,2,3,'hello']}]}]}"
   ]
  },
  {
   "cell_type": "code",
   "execution_count": 19,
   "id": "1290184f",
   "metadata": {},
   "outputs": [
    {
     "data": {
      "text/plain": [
       "'hello'"
      ]
     },
     "execution_count": 19,
     "metadata": {},
     "output_type": "execute_result"
    }
   ],
   "source": [
    "d = {'k1':[1,2,3,{'tricky':['oh','man','inception',{'target':[1,2,3,'hello']}]}]}\n",
    "d['k1'][3]['tricky'][3]['target'][3]"
   ]
  },
  {
   "cell_type": "markdown",
   "id": "8afa9ac7",
   "metadata": {},
   "source": [
    "Q5. Create a function that grabs the email website domain from a string in the form:<br>\n",
    "user@domain.com"
   ]
  },
  {
   "cell_type": "code",
   "execution_count": null,
   "id": "eb987d02",
   "metadata": {},
   "outputs": [],
   "source": []
  }
 ],
 "metadata": {
  "kernelspec": {
   "display_name": "Python 3 (ipykernel)",
   "language": "python",
   "name": "python3"
  },
  "language_info": {
   "codemirror_mode": {
    "name": "ipython",
    "version": 3
   },
   "file_extension": ".py",
   "mimetype": "text/x-python",
   "name": "python",
   "nbconvert_exporter": "python",
   "pygments_lexer": "ipython3",
   "version": "3.9.7"
  }
 },
 "nbformat": 4,
 "nbformat_minor": 5
}
